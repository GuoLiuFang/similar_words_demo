{
 "cells": [
  {
   "cell_type": "markdown",
   "metadata": {
    "deletable": true,
    "editable": true
   },
   "source": [
    "# 词向量相似度查询\n",
    "\n",
    "首先我们下载训练好的词向量，下载地址是\n",
    "\n",
    "* [词向量文件](https://github.com/reyoung/chinese_demo_emb/raw/master/emb.npy), 该文件是一个标准的numpy矩阵，高为词表大小，宽为词向量宽度\n",
    "* [词表文件](https://github.com/reyoung/chinese_demo_emb/raw/master/word_dict.pkl),该文件是pickle文件，的key是词汇，value是词ID\n",
    "\n",
    "这些文件的md5值为:"
   ]
  },
  {
   "cell_type": "code",
   "execution_count": 1,
   "metadata": {
    "collapsed": false,
    "deletable": true,
    "editable": true,
    "scrolled": true
   },
   "outputs": [
    {
     "name": "stdout",
     "output_type": "stream",
     "text": [
      "40922abc470cc54948d32c63c12e5a04  emb.npy\r\n",
      "b84c86fcad7f44bc7bb136fea497c259  word_dict.pkl\r\n"
     ]
    }
   ],
   "source": [
    "!cat download.md5"
   ]
  },
  {
   "cell_type": "markdown",
   "metadata": {
    "deletable": true,
    "editable": true
   },
   "source": [
    "首先，下载这些数据到本地，执行命令"
   ]
  },
  {
   "cell_type": "code",
   "execution_count": 2,
   "metadata": {
    "collapsed": false,
    "deletable": true,
    "editable": true
   },
   "outputs": [],
   "source": [
    "!md5sum -s -c download.md5 || ( curl 'https://raw.githubusercontent.com/reyoung/chinese_demo_emb/master/word_dict.pkl' > word_dict.pkl; curl 'https://raw.githubusercontent.com/reyoung/chinese_demo_emb/master/emb.npy' > emb.npy )"
   ]
  },
  {
   "cell_type": "code",
   "execution_count": 3,
   "metadata": {
    "collapsed": false,
    "deletable": true,
    "editable": true
   },
   "outputs": [
    {
     "name": "stdout",
     "output_type": "stream",
     "text": [
      "total 78088\r\n",
      "-rw-r--r--  1 baidu  wheel    90B  4 17 11:16 download.md5\r\n",
      "-rw-r--r--  1 baidu  wheel   4.9M  4 17 11:22 emb.npy\r\n",
      "-rw-r--r--  1 baidu  wheel    33M  4 17 11:22 word_dict.pkl\r\n",
      "-rw-r--r--  1 baidu  wheel   6.1K  4 17 12:45 词向量相似度查询.ipynb\r\n"
     ]
    }
   ],
   "source": [
    "!ls -lh"
   ]
  },
  {
   "cell_type": "markdown",
   "metadata": {
    "deletable": true,
    "editable": true
   },
   "source": [
    "下一步，我们载入词表文件，将词表文件转换成词ID => 词汇的映射。"
   ]
  },
  {
   "cell_type": "code",
   "execution_count": 4,
   "metadata": {
    "collapsed": false,
    "deletable": true,
    "editable": true
   },
   "outputs": [],
   "source": [
    "import cPickle\n",
    "\n",
    "with open(\"word_dict.pkl\") as f:\n",
    "    word_dict = cPickle.load(f)\n",
    "\n",
    "word_dict_reversed = { v:k for k,v in word_dict.items() }"
   ]
  },
  {
   "cell_type": "markdown",
   "metadata": {
    "deletable": true,
    "editable": true
   },
   "source": [
    "显示一个文本框，接受用户的输入"
   ]
  },
  {
   "cell_type": "code",
   "execution_count": 5,
   "metadata": {
    "collapsed": false,
    "deletable": true,
    "editable": true,
    "scrolled": true
   },
   "outputs": [
    {
     "name": "stdout",
     "output_type": "stream",
     "text": [
      "与\"律师\"相似的词汇是：\n",
      "\t大律师\t0.8245\n",
      "\t证人\t0.8151\n",
      "\t合伙人\t0.8071\n",
      "\t当事人\t0.7907\n",
      "\t银行家\t0.7900\n",
      "\t代理人\t0.7898\n",
      "\t会计师\t0.7869\n",
      "\t雇主\t0.7861\n",
      "\t法律\t0.7817\n",
      "\t警官\t0.7726\n"
     ]
    }
   ],
   "source": [
    "from ipywidgets import widgets\n",
    "from IPython.display import display\n",
    "text = widgets.Text(description=u\"查找词汇:\")\n",
    "display(text)"
   ]
  },
  {
   "cell_type": "markdown",
   "metadata": {
    "deletable": true,
    "editable": true
   },
   "source": [
    "进而，使用`on_text_submitted`接受用户的输入。\n",
    "\n",
    "接受用户输入后，先去查找词表和embedding中有没有用户的输入词汇，如果没有就立即报错。\n",
    "\n",
    "如果有用户输入的词汇，那么就查询这个词汇的embedding值，并和词表中的每一个词汇计算余弦相似度。进而排序选出最相似的前十个词汇，输出。"
   ]
  },
  {
   "cell_type": "code",
   "execution_count": 6,
   "metadata": {
    "collapsed": false,
    "deletable": true,
    "editable": true
   },
   "outputs": [],
   "source": [
    "import numpy\n",
    "from IPython.display import clear_output\n",
    "\n",
    "embs = numpy.load(\"emb.npy\")\n",
    "\n",
    "def cosine_similarity(v1, v2):\n",
    "    \"\"\"compute cosine similarity of v1 to v2: (v1 dot v2)/{||v1||*||v2||)\"\"\"\n",
    "    upper = numpy.dot(v1, v2)\n",
    "    return upper / (numpy.linalg.norm(v1) * numpy.linalg.norm(v2))\n",
    "\n",
    "\n",
    "def similiar_words(word):\n",
    "    target_word_id = word_dict[word]\n",
    "    target_word_emb = embs[target_word_id]\n",
    "    \n",
    "    all_words = []\n",
    "    \n",
    "    for word_id in xrange(len(embs) - 2):\n",
    "        if word_id == target_word_id: continue\n",
    "        word_emb = embs[word_id]\n",
    "        all_words.append((cosine_similarity(word_emb, target_word_emb), word_id))\n",
    "    \n",
    "    all_words.sort(key=lambda x: x[0], reverse=True)\n",
    "    \n",
    "    print u'与\"%s\"相似的词汇是：' % word\n",
    "    for i in xrange(10):\n",
    "        sim, wid = all_words[i]\n",
    "        print '\\t%s\\t%.4f'%(word_dict_reversed[wid], sim)\n",
    "\n",
    "def on_text_submitted(sender):\n",
    "    txt = text.value\n",
    "    clear_output()\n",
    "    if txt not in word_dict or word_dict[txt] >= len(embs) - 2 :\n",
    "        print u\"%s 不在词表或词向量中\" % txt\n",
    "        return\n",
    "    similiar_words(txt)\n",
    "    \n",
    "text.on_submit(on_text_submitted)"
   ]
  },
  {
   "cell_type": "code",
   "execution_count": null,
   "metadata": {
    "collapsed": true,
    "deletable": true,
    "editable": true
   },
   "outputs": [],
   "source": []
  }
 ],
 "metadata": {
  "kernelspec": {
   "display_name": "Python 2",
   "language": "python",
   "name": "python2"
  },
  "language_info": {
   "codemirror_mode": {
    "name": "ipython",
    "version": 2
   },
   "file_extension": ".py",
   "mimetype": "text/x-python",
   "name": "python",
   "nbconvert_exporter": "python",
   "pygments_lexer": "ipython2",
   "version": "2.7.13"
  },
  "widgets": {
   "state": {
    "1bdb607f8614426c87f6123c17bcfc5b": {
     "views": [
      {
       "cell_index": 8
      }
     ]
    }
   },
   "version": "1.2.0"
  }
 },
 "nbformat": 4,
 "nbformat_minor": 2
}
